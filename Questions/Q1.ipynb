{
 "cells": [
  {
   "cell_type": "code",
   "execution_count": 1,
   "id": "dda806d9-74b4-4f3f-b9f6-9825c72ac5b9",
   "metadata": {},
   "outputs": [],
   "source": [
    "import pandas as pd\n",
    "import matplotlib.pyplot as plt"
   ]
  },
  {
   "cell_type": "code",
   "execution_count": 2,
   "id": "888c8fad-97d2-43a6-8697-0cd22f0b225c",
   "metadata": {},
   "outputs": [],
   "source": [
    "df = pd.read_csv('../movieReplicationSet.csv')"
   ]
  },
  {
   "cell_type": "code",
   "execution_count": 3,
   "id": "ca1a7aee-34f2-404e-a924-841780b77737",
   "metadata": {},
   "outputs": [
    {
     "data": {
      "text/html": [
       "<div>\n",
       "<style scoped>\n",
       "    .dataframe tbody tr th:only-of-type {\n",
       "        vertical-align: middle;\n",
       "    }\n",
       "\n",
       "    .dataframe tbody tr th {\n",
       "        vertical-align: top;\n",
       "    }\n",
       "\n",
       "    .dataframe thead th {\n",
       "        text-align: right;\n",
       "    }\n",
       "</style>\n",
       "<table border=\"1\" class=\"dataframe\">\n",
       "  <thead>\n",
       "    <tr style=\"text-align: right;\">\n",
       "      <th></th>\n",
       "      <th>The Life of David Gale (2003)</th>\n",
       "      <th>Wing Commander (1999)</th>\n",
       "      <th>Django Unchained (2012)</th>\n",
       "      <th>Alien (1979)</th>\n",
       "      <th>Indiana Jones and the Last Crusade (1989)</th>\n",
       "      <th>Snatch (2000)</th>\n",
       "      <th>Rambo: First Blood Part II (1985)</th>\n",
       "      <th>Fargo (1996)</th>\n",
       "      <th>Let the Right One In (2008)</th>\n",
       "      <th>Black Swan (2010)</th>\n",
       "      <th>...</th>\n",
       "      <th>When watching a movie I cheer or shout or talk or curse at the screen</th>\n",
       "      <th>When watching a movie I feel like the things on the screen are happening to me</th>\n",
       "      <th>As a movie unfolds I start to have problems keeping track of events that happened earlier</th>\n",
       "      <th>The emotions on the screen \"rub off\" on me - for instance if something sad is happening I get sad or if something frightening is happening I get scared</th>\n",
       "      <th>When watching a movie I get completely immersed in the alternative reality of the film</th>\n",
       "      <th>Movies change my position on social economic or political issues</th>\n",
       "      <th>When watching movies things get so intense that I have to stop watching</th>\n",
       "      <th>Gender identity (1 = female; 2 = male; 3 = self-described)</th>\n",
       "      <th>Are you an only child? (1: Yes; 0: No; -1: Did not respond)</th>\n",
       "      <th>Movies are best enjoyed alone (1: Yes; 0: No; -1: Did not respond)</th>\n",
       "    </tr>\n",
       "  </thead>\n",
       "  <tbody>\n",
       "    <tr>\n",
       "      <th>0</th>\n",
       "      <td>NaN</td>\n",
       "      <td>NaN</td>\n",
       "      <td>4.0</td>\n",
       "      <td>NaN</td>\n",
       "      <td>3.0</td>\n",
       "      <td>NaN</td>\n",
       "      <td>NaN</td>\n",
       "      <td>NaN</td>\n",
       "      <td>NaN</td>\n",
       "      <td>NaN</td>\n",
       "      <td>...</td>\n",
       "      <td>1.0</td>\n",
       "      <td>6.0</td>\n",
       "      <td>2.0</td>\n",
       "      <td>5.0</td>\n",
       "      <td>5.0</td>\n",
       "      <td>5.0</td>\n",
       "      <td>1.0</td>\n",
       "      <td>1.0</td>\n",
       "      <td>0</td>\n",
       "      <td>1</td>\n",
       "    </tr>\n",
       "    <tr>\n",
       "      <th>1</th>\n",
       "      <td>NaN</td>\n",
       "      <td>NaN</td>\n",
       "      <td>1.5</td>\n",
       "      <td>NaN</td>\n",
       "      <td>NaN</td>\n",
       "      <td>NaN</td>\n",
       "      <td>NaN</td>\n",
       "      <td>NaN</td>\n",
       "      <td>NaN</td>\n",
       "      <td>NaN</td>\n",
       "      <td>...</td>\n",
       "      <td>3.0</td>\n",
       "      <td>1.0</td>\n",
       "      <td>1.0</td>\n",
       "      <td>6.0</td>\n",
       "      <td>5.0</td>\n",
       "      <td>3.0</td>\n",
       "      <td>2.0</td>\n",
       "      <td>1.0</td>\n",
       "      <td>0</td>\n",
       "      <td>0</td>\n",
       "    </tr>\n",
       "    <tr>\n",
       "      <th>2</th>\n",
       "      <td>NaN</td>\n",
       "      <td>NaN</td>\n",
       "      <td>NaN</td>\n",
       "      <td>NaN</td>\n",
       "      <td>NaN</td>\n",
       "      <td>NaN</td>\n",
       "      <td>NaN</td>\n",
       "      <td>NaN</td>\n",
       "      <td>NaN</td>\n",
       "      <td>NaN</td>\n",
       "      <td>...</td>\n",
       "      <td>5.0</td>\n",
       "      <td>4.0</td>\n",
       "      <td>3.0</td>\n",
       "      <td>5.0</td>\n",
       "      <td>5.0</td>\n",
       "      <td>4.0</td>\n",
       "      <td>4.0</td>\n",
       "      <td>1.0</td>\n",
       "      <td>1</td>\n",
       "      <td>0</td>\n",
       "    </tr>\n",
       "    <tr>\n",
       "      <th>3</th>\n",
       "      <td>NaN</td>\n",
       "      <td>NaN</td>\n",
       "      <td>2.0</td>\n",
       "      <td>NaN</td>\n",
       "      <td>3.0</td>\n",
       "      <td>NaN</td>\n",
       "      <td>NaN</td>\n",
       "      <td>NaN</td>\n",
       "      <td>NaN</td>\n",
       "      <td>4.0</td>\n",
       "      <td>...</td>\n",
       "      <td>3.0</td>\n",
       "      <td>1.0</td>\n",
       "      <td>1.0</td>\n",
       "      <td>4.0</td>\n",
       "      <td>5.0</td>\n",
       "      <td>3.0</td>\n",
       "      <td>1.0</td>\n",
       "      <td>1.0</td>\n",
       "      <td>0</td>\n",
       "      <td>1</td>\n",
       "    </tr>\n",
       "    <tr>\n",
       "      <th>4</th>\n",
       "      <td>NaN</td>\n",
       "      <td>NaN</td>\n",
       "      <td>3.5</td>\n",
       "      <td>NaN</td>\n",
       "      <td>0.5</td>\n",
       "      <td>NaN</td>\n",
       "      <td>0.5</td>\n",
       "      <td>1.0</td>\n",
       "      <td>NaN</td>\n",
       "      <td>0.0</td>\n",
       "      <td>...</td>\n",
       "      <td>2.0</td>\n",
       "      <td>3.0</td>\n",
       "      <td>2.0</td>\n",
       "      <td>5.0</td>\n",
       "      <td>6.0</td>\n",
       "      <td>4.0</td>\n",
       "      <td>4.0</td>\n",
       "      <td>1.0</td>\n",
       "      <td>1</td>\n",
       "      <td>1</td>\n",
       "    </tr>\n",
       "    <tr>\n",
       "      <th>...</th>\n",
       "      <td>...</td>\n",
       "      <td>...</td>\n",
       "      <td>...</td>\n",
       "      <td>...</td>\n",
       "      <td>...</td>\n",
       "      <td>...</td>\n",
       "      <td>...</td>\n",
       "      <td>...</td>\n",
       "      <td>...</td>\n",
       "      <td>...</td>\n",
       "      <td>...</td>\n",
       "      <td>...</td>\n",
       "      <td>...</td>\n",
       "      <td>...</td>\n",
       "      <td>...</td>\n",
       "      <td>...</td>\n",
       "      <td>...</td>\n",
       "      <td>...</td>\n",
       "      <td>...</td>\n",
       "      <td>...</td>\n",
       "      <td>...</td>\n",
       "    </tr>\n",
       "    <tr>\n",
       "      <th>1092</th>\n",
       "      <td>NaN</td>\n",
       "      <td>NaN</td>\n",
       "      <td>NaN</td>\n",
       "      <td>NaN</td>\n",
       "      <td>3.5</td>\n",
       "      <td>NaN</td>\n",
       "      <td>NaN</td>\n",
       "      <td>NaN</td>\n",
       "      <td>NaN</td>\n",
       "      <td>NaN</td>\n",
       "      <td>...</td>\n",
       "      <td>3.0</td>\n",
       "      <td>4.0</td>\n",
       "      <td>3.0</td>\n",
       "      <td>5.0</td>\n",
       "      <td>5.0</td>\n",
       "      <td>4.0</td>\n",
       "      <td>4.0</td>\n",
       "      <td>1.0</td>\n",
       "      <td>0</td>\n",
       "      <td>0</td>\n",
       "    </tr>\n",
       "    <tr>\n",
       "      <th>1093</th>\n",
       "      <td>3.0</td>\n",
       "      <td>4.0</td>\n",
       "      <td>NaN</td>\n",
       "      <td>NaN</td>\n",
       "      <td>4.0</td>\n",
       "      <td>4.0</td>\n",
       "      <td>2.5</td>\n",
       "      <td>NaN</td>\n",
       "      <td>3.5</td>\n",
       "      <td>3.5</td>\n",
       "      <td>...</td>\n",
       "      <td>5.0</td>\n",
       "      <td>3.0</td>\n",
       "      <td>5.0</td>\n",
       "      <td>5.0</td>\n",
       "      <td>5.0</td>\n",
       "      <td>6.0</td>\n",
       "      <td>5.0</td>\n",
       "      <td>1.0</td>\n",
       "      <td>0</td>\n",
       "      <td>0</td>\n",
       "    </tr>\n",
       "    <tr>\n",
       "      <th>1094</th>\n",
       "      <td>NaN</td>\n",
       "      <td>NaN</td>\n",
       "      <td>NaN</td>\n",
       "      <td>NaN</td>\n",
       "      <td>NaN</td>\n",
       "      <td>NaN</td>\n",
       "      <td>NaN</td>\n",
       "      <td>3.5</td>\n",
       "      <td>NaN</td>\n",
       "      <td>NaN</td>\n",
       "      <td>...</td>\n",
       "      <td>6.0</td>\n",
       "      <td>3.0</td>\n",
       "      <td>1.0</td>\n",
       "      <td>6.0</td>\n",
       "      <td>6.0</td>\n",
       "      <td>4.0</td>\n",
       "      <td>2.0</td>\n",
       "      <td>1.0</td>\n",
       "      <td>0</td>\n",
       "      <td>0</td>\n",
       "    </tr>\n",
       "    <tr>\n",
       "      <th>1095</th>\n",
       "      <td>NaN</td>\n",
       "      <td>NaN</td>\n",
       "      <td>NaN</td>\n",
       "      <td>NaN</td>\n",
       "      <td>NaN</td>\n",
       "      <td>NaN</td>\n",
       "      <td>NaN</td>\n",
       "      <td>NaN</td>\n",
       "      <td>NaN</td>\n",
       "      <td>NaN</td>\n",
       "      <td>...</td>\n",
       "      <td>1.0</td>\n",
       "      <td>1.0</td>\n",
       "      <td>1.0</td>\n",
       "      <td>4.0</td>\n",
       "      <td>3.0</td>\n",
       "      <td>3.0</td>\n",
       "      <td>1.0</td>\n",
       "      <td>1.0</td>\n",
       "      <td>0</td>\n",
       "      <td>1</td>\n",
       "    </tr>\n",
       "    <tr>\n",
       "      <th>1096</th>\n",
       "      <td>NaN</td>\n",
       "      <td>NaN</td>\n",
       "      <td>4.0</td>\n",
       "      <td>NaN</td>\n",
       "      <td>2.5</td>\n",
       "      <td>NaN</td>\n",
       "      <td>NaN</td>\n",
       "      <td>3.0</td>\n",
       "      <td>NaN</td>\n",
       "      <td>3.5</td>\n",
       "      <td>...</td>\n",
       "      <td>3.0</td>\n",
       "      <td>4.0</td>\n",
       "      <td>1.0</td>\n",
       "      <td>4.0</td>\n",
       "      <td>4.0</td>\n",
       "      <td>4.0</td>\n",
       "      <td>1.0</td>\n",
       "      <td>1.0</td>\n",
       "      <td>0</td>\n",
       "      <td>1</td>\n",
       "    </tr>\n",
       "  </tbody>\n",
       "</table>\n",
       "<p>1097 rows × 477 columns</p>\n",
       "</div>"
      ],
      "text/plain": [
       "      The Life of David Gale (2003)  Wing Commander (1999)  \\\n",
       "0                               NaN                    NaN   \n",
       "1                               NaN                    NaN   \n",
       "2                               NaN                    NaN   \n",
       "3                               NaN                    NaN   \n",
       "4                               NaN                    NaN   \n",
       "...                             ...                    ...   \n",
       "1092                            NaN                    NaN   \n",
       "1093                            3.0                    4.0   \n",
       "1094                            NaN                    NaN   \n",
       "1095                            NaN                    NaN   \n",
       "1096                            NaN                    NaN   \n",
       "\n",
       "      Django Unchained (2012)  Alien (1979)  \\\n",
       "0                         4.0           NaN   \n",
       "1                         1.5           NaN   \n",
       "2                         NaN           NaN   \n",
       "3                         2.0           NaN   \n",
       "4                         3.5           NaN   \n",
       "...                       ...           ...   \n",
       "1092                      NaN           NaN   \n",
       "1093                      NaN           NaN   \n",
       "1094                      NaN           NaN   \n",
       "1095                      NaN           NaN   \n",
       "1096                      4.0           NaN   \n",
       "\n",
       "      Indiana Jones and the Last Crusade (1989)  Snatch (2000)  \\\n",
       "0                                           3.0            NaN   \n",
       "1                                           NaN            NaN   \n",
       "2                                           NaN            NaN   \n",
       "3                                           3.0            NaN   \n",
       "4                                           0.5            NaN   \n",
       "...                                         ...            ...   \n",
       "1092                                        3.5            NaN   \n",
       "1093                                        4.0            4.0   \n",
       "1094                                        NaN            NaN   \n",
       "1095                                        NaN            NaN   \n",
       "1096                                        2.5            NaN   \n",
       "\n",
       "      Rambo: First Blood Part II (1985)  Fargo (1996)  \\\n",
       "0                                   NaN           NaN   \n",
       "1                                   NaN           NaN   \n",
       "2                                   NaN           NaN   \n",
       "3                                   NaN           NaN   \n",
       "4                                   0.5           1.0   \n",
       "...                                 ...           ...   \n",
       "1092                                NaN           NaN   \n",
       "1093                                2.5           NaN   \n",
       "1094                                NaN           3.5   \n",
       "1095                                NaN           NaN   \n",
       "1096                                NaN           3.0   \n",
       "\n",
       "      Let the Right One In (2008)  Black Swan (2010)  ...  \\\n",
       "0                             NaN                NaN  ...   \n",
       "1                             NaN                NaN  ...   \n",
       "2                             NaN                NaN  ...   \n",
       "3                             NaN                4.0  ...   \n",
       "4                             NaN                0.0  ...   \n",
       "...                           ...                ...  ...   \n",
       "1092                          NaN                NaN  ...   \n",
       "1093                          3.5                3.5  ...   \n",
       "1094                          NaN                NaN  ...   \n",
       "1095                          NaN                NaN  ...   \n",
       "1096                          NaN                3.5  ...   \n",
       "\n",
       "      When watching a movie I cheer or shout or talk or curse at the screen  \\\n",
       "0                                                   1.0                       \n",
       "1                                                   3.0                       \n",
       "2                                                   5.0                       \n",
       "3                                                   3.0                       \n",
       "4                                                   2.0                       \n",
       "...                                                 ...                       \n",
       "1092                                                3.0                       \n",
       "1093                                                5.0                       \n",
       "1094                                                6.0                       \n",
       "1095                                                1.0                       \n",
       "1096                                                3.0                       \n",
       "\n",
       "      When watching a movie I feel like the things on the screen are happening to me  \\\n",
       "0                                                   6.0                                \n",
       "1                                                   1.0                                \n",
       "2                                                   4.0                                \n",
       "3                                                   1.0                                \n",
       "4                                                   3.0                                \n",
       "...                                                 ...                                \n",
       "1092                                                4.0                                \n",
       "1093                                                3.0                                \n",
       "1094                                                3.0                                \n",
       "1095                                                1.0                                \n",
       "1096                                                4.0                                \n",
       "\n",
       "      As a movie unfolds I start to have problems keeping track of events that happened earlier  \\\n",
       "0                                                   2.0                                           \n",
       "1                                                   1.0                                           \n",
       "2                                                   3.0                                           \n",
       "3                                                   1.0                                           \n",
       "4                                                   2.0                                           \n",
       "...                                                 ...                                           \n",
       "1092                                                3.0                                           \n",
       "1093                                                5.0                                           \n",
       "1094                                                1.0                                           \n",
       "1095                                                1.0                                           \n",
       "1096                                                1.0                                           \n",
       "\n",
       "      The emotions on the screen \"rub off\" on me - for instance if something sad is happening I get sad or if something frightening is happening I get scared  \\\n",
       "0                                                   5.0                                                                                                         \n",
       "1                                                   6.0                                                                                                         \n",
       "2                                                   5.0                                                                                                         \n",
       "3                                                   4.0                                                                                                         \n",
       "4                                                   5.0                                                                                                         \n",
       "...                                                 ...                                                                                                         \n",
       "1092                                                5.0                                                                                                         \n",
       "1093                                                5.0                                                                                                         \n",
       "1094                                                6.0                                                                                                         \n",
       "1095                                                4.0                                                                                                         \n",
       "1096                                                4.0                                                                                                         \n",
       "\n",
       "      When watching a movie I get completely immersed in the alternative reality of the film  \\\n",
       "0                                                   5.0                                        \n",
       "1                                                   5.0                                        \n",
       "2                                                   5.0                                        \n",
       "3                                                   5.0                                        \n",
       "4                                                   6.0                                        \n",
       "...                                                 ...                                        \n",
       "1092                                                5.0                                        \n",
       "1093                                                5.0                                        \n",
       "1094                                                6.0                                        \n",
       "1095                                                3.0                                        \n",
       "1096                                                4.0                                        \n",
       "\n",
       "      Movies change my position on social economic or political issues  \\\n",
       "0                                                   5.0                  \n",
       "1                                                   3.0                  \n",
       "2                                                   4.0                  \n",
       "3                                                   3.0                  \n",
       "4                                                   4.0                  \n",
       "...                                                 ...                  \n",
       "1092                                                4.0                  \n",
       "1093                                                6.0                  \n",
       "1094                                                4.0                  \n",
       "1095                                                3.0                  \n",
       "1096                                                4.0                  \n",
       "\n",
       "      When watching movies things get so intense that I have to stop watching  \\\n",
       "0                                                   1.0                         \n",
       "1                                                   2.0                         \n",
       "2                                                   4.0                         \n",
       "3                                                   1.0                         \n",
       "4                                                   4.0                         \n",
       "...                                                 ...                         \n",
       "1092                                                4.0                         \n",
       "1093                                                5.0                         \n",
       "1094                                                2.0                         \n",
       "1095                                                1.0                         \n",
       "1096                                                1.0                         \n",
       "\n",
       "      Gender identity (1 = female; 2 = male; 3 = self-described)  \\\n",
       "0                                                   1.0            \n",
       "1                                                   1.0            \n",
       "2                                                   1.0            \n",
       "3                                                   1.0            \n",
       "4                                                   1.0            \n",
       "...                                                 ...            \n",
       "1092                                                1.0            \n",
       "1093                                                1.0            \n",
       "1094                                                1.0            \n",
       "1095                                                1.0            \n",
       "1096                                                1.0            \n",
       "\n",
       "      Are you an only child? (1: Yes; 0: No; -1: Did not respond)  \\\n",
       "0                                                     0             \n",
       "1                                                     0             \n",
       "2                                                     1             \n",
       "3                                                     0             \n",
       "4                                                     1             \n",
       "...                                                 ...             \n",
       "1092                                                  0             \n",
       "1093                                                  0             \n",
       "1094                                                  0             \n",
       "1095                                                  0             \n",
       "1096                                                  0             \n",
       "\n",
       "      Movies are best enjoyed alone (1: Yes; 0: No; -1: Did not respond)  \n",
       "0                                                     1                   \n",
       "1                                                     0                   \n",
       "2                                                     0                   \n",
       "3                                                     1                   \n",
       "4                                                     1                   \n",
       "...                                                 ...                   \n",
       "1092                                                  0                   \n",
       "1093                                                  0                   \n",
       "1094                                                  0                   \n",
       "1095                                                  1                   \n",
       "1096                                                  1                   \n",
       "\n",
       "[1097 rows x 477 columns]"
      ]
     },
     "execution_count": 3,
     "metadata": {},
     "output_type": "execute_result"
    }
   ],
   "source": [
    "df"
   ]
  },
  {
   "cell_type": "code",
   "execution_count": 4,
   "id": "06bafb64-c34c-48bd-b35e-d61ca9747ad3",
   "metadata": {},
   "outputs": [],
   "source": [
    "movie_cols = df.columns[0:400]"
   ]
  },
  {
   "cell_type": "code",
   "execution_count": 5,
   "id": "ea300f36-fb74-4bc8-87d2-440fe4d77b54",
   "metadata": {},
   "outputs": [
    {
     "data": {
      "text/plain": [
       "Index(['The Life of David Gale (2003)', 'Wing Commander (1999)',\n",
       "       'Django Unchained (2012)', 'Alien (1979)',\n",
       "       'Indiana Jones and the Last Crusade (1989)', 'Snatch (2000)',\n",
       "       'Rambo: First Blood Part II (1985)', 'Fargo (1996)',\n",
       "       'Let the Right One In (2008)', 'Black Swan (2010)',\n",
       "       ...\n",
       "       'X-Men 2 (2003)', 'The Usual Suspects (1995)', 'The Mask (1994)',\n",
       "       'Jaws (1975)', 'Harry Potter and the Chamber of Secrets (2002)',\n",
       "       'Patton (1970)', 'Anaconda (1997)', 'Twister (1996)',\n",
       "       'MacArthur (1977)', 'Look Who's Talking (1989)'],\n",
       "      dtype='object', length=400)"
      ]
     },
     "execution_count": 5,
     "metadata": {},
     "output_type": "execute_result"
    }
   ],
   "source": [
    "movie_cols"
   ]
  },
  {
   "cell_type": "code",
   "execution_count": 6,
   "id": "abd623dd-4b2f-4c59-bcaa-586426498aa8",
   "metadata": {},
   "outputs": [],
   "source": [
    "sensation_cols = df.columns[400:420]"
   ]
  },
  {
   "cell_type": "code",
   "execution_count": 7,
   "id": "66d8390f-f159-467b-8fe3-39d70fc221ce",
   "metadata": {},
   "outputs": [
    {
     "data": {
      "text/plain": [
       "Index(['I enjoy driving fast', 'I enjoy rollercoasters ',\n",
       "       'Have you ever bungee-jumped?', 'I enjoy impulse shopping',\n",
       "       'I sometimes go out on weeknights even if I have work to do',\n",
       "       'I enjoy doing things without too much planning ',\n",
       "       'Have you ever been rock climbing?',\n",
       "       'I enjoy being in large loud crowds like the Times Square Ball Drop on New Years Eve',\n",
       "       'I enjoy going to large music or dance festivals ',\n",
       "       'I enjoy watching horror movies', 'No risk - No fun',\n",
       "       'I like to be surprised even if it startles or scares me',\n",
       "       'Have you ever parachuted?', 'I enjoy haunted houses',\n",
       "       'I had a sheltered upbringing', 'My life is very stressful',\n",
       "       'I value my life to be well ordered and predictable',\n",
       "       'Have you ridden a motorcycle?', 'Have you gambled or bet for money?',\n",
       "       'Have you ever been sky-diving?'],\n",
       "      dtype='object')"
      ]
     },
     "execution_count": 7,
     "metadata": {},
     "output_type": "execute_result"
    }
   ],
   "source": [
    "sensation_cols"
   ]
  },
  {
   "cell_type": "code",
   "execution_count": 8,
   "id": "c0d354f0-2a74-4626-a9fd-310a15dd6f17",
   "metadata": {},
   "outputs": [],
   "source": [
    "personality_cols = df.columns[420:464]"
   ]
  },
  {
   "cell_type": "code",
   "execution_count": 9,
   "id": "bf093971-ec72-447d-b8b1-f9d0066f2b0f",
   "metadata": {},
   "outputs": [
    {
     "data": {
      "text/plain": [
       "Index(['Is talkative', 'Tends to find fault with others',\n",
       "       'Does a thorough job', 'Is depressed/Blue',\n",
       "       'Is original/comes up with new ideas', 'Is reserved',\n",
       "       'Is helpful and unselfish with others', 'Can be somewhat careless',\n",
       "       'Is relaxed/handles stress well',\n",
       "       'Is curious about many different things', 'Is full of energy',\n",
       "       'Starts quarrels with others', 'Is a reliable worker', 'Can be tense',\n",
       "       'Is ingenious/a deep thinker', 'Generates a lot of Enthusiasm',\n",
       "       'Has a forgiving nature', 'Tends to be disorganized', 'Worries a lot',\n",
       "       'Has an active imagination', 'Tends to be quiet',\n",
       "       'Is generally trusting', 'Tends to be lazy',\n",
       "       'Is emotionally stable/not easily upset', 'is inventive',\n",
       "       'Has an assertive personality', 'Can be cold and aloof',\n",
       "       'Perseveres until the task is finished', 'Can be moody',\n",
       "       'Values artistic/aesthetic experiences', 'Is sometimes shy/inhibited',\n",
       "       'Is considerate and kind to almost everyone', 'Does things efficiently',\n",
       "       'Remains calm in tense situations', 'Prefers work that is routine',\n",
       "       'is outgoing/sociable', 'Is sometimes rude to others',\n",
       "       'Makes plans and follows through with them', 'Gets nervous easily',\n",
       "       'Likes to reflect/play with ideas', 'Has few artistic interests',\n",
       "       'Likes to cooperate with others', 'Is easily distracted',\n",
       "       'Is sophisticated in art or music or literature'],\n",
       "      dtype='object')"
      ]
     },
     "execution_count": 9,
     "metadata": {},
     "output_type": "execute_result"
    }
   ],
   "source": [
    "personality_cols"
   ]
  },
  {
   "cell_type": "code",
   "execution_count": 10,
   "id": "0c45d0b0-553d-49df-a154-ed4ce3fbb29c",
   "metadata": {},
   "outputs": [],
   "source": [
    "movie_rating_cols = df.columns[464:474]"
   ]
  },
  {
   "cell_type": "code",
   "execution_count": 11,
   "id": "815d2dad-3651-49af-804c-e9bd7bcefeae",
   "metadata": {},
   "outputs": [
    {
     "data": {
      "text/plain": [
       "Index(['I have cried during a movie',\n",
       "       'I have trouble following the story of a movie',\n",
       "       'I have trouble remembering the story of a movie a couple of days after seeing it',\n",
       "       'When watching a movie I cheer or shout or talk or curse at the screen',\n",
       "       'When watching a movie I feel like the things on the screen are happening to me',\n",
       "       'As a movie unfolds I start to have problems keeping track of events that happened earlier',\n",
       "       'The emotions on the screen \"rub off\" on me - for instance if something sad is happening I get sad or if something frightening is happening I get scared',\n",
       "       'When watching a movie I get completely immersed in the alternative reality of the film',\n",
       "       'Movies change my position on social economic or political issues',\n",
       "       'When watching movies things get so intense that I have to stop watching'],\n",
       "      dtype='object')"
      ]
     },
     "execution_count": 11,
     "metadata": {},
     "output_type": "execute_result"
    }
   ],
   "source": [
    "movie_rating_cols"
   ]
  },
  {
   "cell_type": "code",
   "execution_count": 12,
   "id": "face1bad-8905-4968-96e7-652216461915",
   "metadata": {},
   "outputs": [],
   "source": [
    "gender_identity_cols = df.columns[474:475]"
   ]
  },
  {
   "cell_type": "code",
   "execution_count": 13,
   "id": "b72d4e28-c38f-445a-bd1e-0b75391b6194",
   "metadata": {},
   "outputs": [
    {
     "data": {
      "text/plain": [
       "Index(['Gender identity (1 = female; 2 = male; 3 = self-described)'], dtype='object')"
      ]
     },
     "execution_count": 13,
     "metadata": {},
     "output_type": "execute_result"
    }
   ],
   "source": [
    "gender_identity_cols"
   ]
  },
  {
   "cell_type": "code",
   "execution_count": 14,
   "id": "0e164f8d-de48-4f51-8ea3-dbbbe2c31b69",
   "metadata": {},
   "outputs": [],
   "source": [
    "only_child_cols = df.columns[475:476]"
   ]
  },
  {
   "cell_type": "code",
   "execution_count": 15,
   "id": "ce16c511-591a-4871-9b51-92a321c89e4a",
   "metadata": {},
   "outputs": [
    {
     "data": {
      "text/plain": [
       "Index(['Are you an only child? (1: Yes; 0: No; -1: Did not respond)'], dtype='object')"
      ]
     },
     "execution_count": 15,
     "metadata": {},
     "output_type": "execute_result"
    }
   ],
   "source": [
    "only_child_cols"
   ]
  },
  {
   "cell_type": "code",
   "execution_count": 16,
   "id": "e0d3412b-50fb-406e-8533-adbda560cd13",
   "metadata": {},
   "outputs": [],
   "source": [
    "alone_cols = df.columns[476:477]"
   ]
  },
  {
   "cell_type": "code",
   "execution_count": 17,
   "id": "f3b0baa4-4819-407c-aeb5-6366da200aa9",
   "metadata": {},
   "outputs": [
    {
     "data": {
      "text/plain": [
       "Index(['Movies are best enjoyed alone (1: Yes; 0: No; -1: Did not respond)'], dtype='object')"
      ]
     },
     "execution_count": 17,
     "metadata": {},
     "output_type": "execute_result"
    }
   ],
   "source": [
    "alone_cols"
   ]
  },
  {
   "cell_type": "markdown",
   "id": "ef31833e-7e29-4cb2-a4ff-614afc63b151",
   "metadata": {},
   "source": [
    "# AFYD\n",
    "\n",
    "1. **D**: What did you do - what assumptions/choices did you make, if any (e.g. re\n",
    "independence, type of data, etc.)?\n",
    "2. **Y**: Why did you do this - what was the reasoning for doing this (over all other possible things you could have done)?\n",
    "3. **F**: What did you find doing that - at least one number (e.g. a p-value or an effect size), better a number *and* a figure. Context is better – what does the number represent, how was it arrived at (what was the test statistic and degrees of freedom?)\n",
    "4. **A**: Given all of that, how do you answer the question, sth like \"Given that my p value is x, I conclude that y]. If you made any questionable assumptions above, this is also where you might want to state limitations to the scope of your answer, if there are any, and you are aware of them. It's fine to have limitations, if you spell them out (e.g. concerns about alpha inflation, independence, distribution of data, etc - if there are any).\n"
   ]
  },
  {
   "cell_type": "markdown",
   "id": "3b531574-f648-4108-9fa5-d5294f1afa03",
   "metadata": {},
   "source": [
    "# Question 1:"
   ]
  },
  {
   "cell_type": "markdown",
   "id": "82bfeae1-9e0b-4df0-96f0-b8f4eef9ea75",
   "metadata": {},
   "source": [
    "Are movies that are more popular (operationalized as having more ratings) rated higher than movies that are less popular? [Hint: You can do a median-split of popularity to determine high vs. low popularity movies]"
   ]
  },
  {
   "cell_type": "markdown",
   "id": "075497ad-ef08-43c5-a68f-20d3b71fcbd7",
   "metadata": {},
   "source": [
    "Step 1: Defining popularity:\n",
    "- We shall describe popularity as the number of people who have reviewed a movie.\n",
    "\n",
    "Step 2: Finding popular movies:\n",
    "- Movies that are above the median popularity are deemed high-popularity, others are deemed low-popularity"
   ]
  },
  {
   "cell_type": "code",
   "execution_count": 18,
   "id": "f23d7fab-589b-4e5b-9e08-78d72d4981b0",
   "metadata": {},
   "outputs": [],
   "source": [
    "df_movies = df[movie_cols]"
   ]
  },
  {
   "cell_type": "code",
   "execution_count": 19,
   "id": "8e87f2a3-ca6c-48e5-9ec7-3c101d2eac19",
   "metadata": {},
   "outputs": [],
   "source": [
    "df_popularity = len(df_movies)-df_movies.isna().sum(axis=0)"
   ]
  },
  {
   "cell_type": "code",
   "execution_count": 20,
   "id": "25159ecf-9a5d-40e4-8a08-e83b2b1ef583",
   "metadata": {},
   "outputs": [],
   "source": [
    "median_popularity = df_popularity.median()"
   ]
  },
  {
   "cell_type": "code",
   "execution_count": 21,
   "id": "045f6011-4359-46c6-9c4b-5478e33232f2",
   "metadata": {},
   "outputs": [],
   "source": [
    "high_popularity_mask = df_popularity > median_popularity"
   ]
  },
  {
   "cell_type": "code",
   "execution_count": 22,
   "id": "329a6d15-0f4c-4c04-8891-fbaf69a44892",
   "metadata": {},
   "outputs": [],
   "source": [
    "highly_popular_movies = df_movies.columns[high_popularity_mask]"
   ]
  },
  {
   "cell_type": "code",
   "execution_count": 23,
   "id": "4ce62251-308c-4006-87fb-cefaa7e43c32",
   "metadata": {},
   "outputs": [
    {
     "data": {
      "text/plain": [
       "Index(['Django Unchained (2012)', 'Alien (1979)',\n",
       "       'Indiana Jones and the Last Crusade (1989)', 'Fargo (1996)',\n",
       "       'Black Swan (2010)', 'King Kong (1976)',\n",
       "       'A Nightmare on Elm Street (1984)', 'The Fast and the Furious (2001)',\n",
       "       'American Beauty (1999)', 'Psycho (1960)',\n",
       "       ...\n",
       "       'Inception (2010)', 'Groundhog Day (1993)', 'Gladiator (2000)',\n",
       "       'The Mummy (1999)', 'Harry Potter and the Goblet of Fire (2005)',\n",
       "       'X-Men 2 (2003)', 'The Mask (1994)', 'Jaws (1975)',\n",
       "       'Harry Potter and the Chamber of Secrets (2002)', 'Anaconda (1997)'],\n",
       "      dtype='object', length=200)"
      ]
     },
     "execution_count": 23,
     "metadata": {},
     "output_type": "execute_result"
    }
   ],
   "source": [
    "highly_popular_movies"
   ]
  },
  {
   "cell_type": "code",
   "execution_count": 24,
   "id": "3c5055f2-e969-410d-a14a-903c16c5d2ef",
   "metadata": {},
   "outputs": [],
   "source": [
    "not_popular_movies = df_movies.columns[-high_popularity_mask]"
   ]
  },
  {
   "cell_type": "code",
   "execution_count": 25,
   "id": "78f34c43-7cd7-44f5-a19c-373206d70ae9",
   "metadata": {},
   "outputs": [
    {
     "data": {
      "text/plain": [
       "Index(['The Life of David Gale (2003)', 'Wing Commander (1999)',\n",
       "       'Snatch (2000)', 'Rambo: First Blood Part II (1985)',\n",
       "       'Let the Right One In (2008)', 'The Machinist (2004)', 'Brazil (1985)',\n",
       "       'Change of Habit (1969)', 'Night of the Living Dead (1968)',\n",
       "       'Man on Fire (2004)',\n",
       "       ...\n",
       "       'On Golden Pond (1981)', 'The Descent (2005)', 'Runaway Bride (1999)',\n",
       "       'Gods and Generals (2003)', 'My Father and My Son (2005)',\n",
       "       'The Usual Suspects (1995)', 'Patton (1970)', 'Twister (1996)',\n",
       "       'MacArthur (1977)', 'Look Who's Talking (1989)'],\n",
       "      dtype='object', length=200)"
      ]
     },
     "execution_count": 25,
     "metadata": {},
     "output_type": "execute_result"
    }
   ],
   "source": [
    "not_popular_movies"
   ]
  },
  {
   "cell_type": "markdown",
   "id": "5466e835-ea37-4743-b233-440ea908fa43",
   "metadata": {},
   "source": [
    "Step 3: Decide the test design.\n",
    "\n",
    "- For this use-case, we will assume that sample means can correctly describe the ratings for movies. Therefore each movie will be assigned the sample mean of all its ratings.\n",
    "- Population parameters are unknown.\n",
    "- The groups are correlated. People don't only evaluate one movie, and the same people can evaluate movies in both the highly-popular and not-popular categories. Therefore it is a within-subjects-design. However, since we will be averaging all ratings for each movie, we will assume that the scores for each movie are mostly independent.\n",
    "\n",
    "We will try to compare the distribution of variability between the movies of each group, by plotting the histograms and getting the sample variance:"
   ]
  },
  {
   "cell_type": "code",
   "execution_count": 26,
   "id": "6c72d8df-ea48-4e16-9bb1-e69e6d2ae604",
   "metadata": {},
   "outputs": [],
   "source": [
    "df_popular = df_movies[highly_popular_movies]\n",
    "popular_scores = df_popular.mean(axis=0)"
   ]
  },
  {
   "cell_type": "code",
   "execution_count": 27,
   "id": "d5f81ec8-f43a-4fce-ac9c-8fcbf9a3442d",
   "metadata": {},
   "outputs": [
    {
     "data": {
      "text/plain": [
       "Text(0.5, 1.0, 'Distribution of mean scores for popular movies.')"
      ]
     },
     "execution_count": 27,
     "metadata": {},
     "output_type": "execute_result"
    },
    {
     "data": {
      "image/png": "[encoded data removed]",
      "text/plain": [
       "<Figure size 640x480 with 1 Axes>"
      ]
     },
     "metadata": {},
     "output_type": "display_data"
    }
   ],
   "source": [
    "plt.hist(popular_scores)\n",
    "plt.title('Distribution of mean scores for popular movies.')"
   ]
  },
  {
   "cell_type": "code",
   "execution_count": 28,
   "id": "340e7b12-b9be-447a-932e-2c2e56999c3d",
   "metadata": {},
   "outputs": [
    {
     "data": {
      "text/plain": [
       "0.0850024321309087"
      ]
     },
     "execution_count": 28,
     "metadata": {},
     "output_type": "execute_result"
    }
   ],
   "source": [
    "popular_scores.var()"
   ]
  },
  {
   "cell_type": "code",
   "execution_count": 29,
   "id": "41cc491f-c6df-42a8-80dd-6c483332875e",
   "metadata": {},
   "outputs": [],
   "source": [
    "df_not_popular = df_movies[not_popular_movies]\n",
    "not_popular_scores = df_not_popular.mean(axis=0)"
   ]
  },
  {
   "cell_type": "code",
   "execution_count": 30,
   "id": "b89ab94a-90af-43fb-9978-3be6065a90b0",
   "metadata": {},
   "outputs": [
    {
     "data": {
      "text/plain": [
       "Text(0.5, 1.0, 'Distribution of mean scores for non-popular movies.')"
      ]
     },
     "execution_count": 30,
     "metadata": {},
     "output_type": "execute_result"
    },
    {
     "data": {
      "image/png": "[encoded data removed]",
      "text/plain": [
       "<Figure size 640x480 with 1 Axes>"
      ]
     },
     "metadata": {},
     "output_type": "display_data"
    }
   ],
   "source": [
    "plt.hist(not_popular_scores)\n",
    "plt.title('Distribution of mean scores for non-popular movies.')"
   ]
  },
  {
   "cell_type": "code",
   "execution_count": 31,
   "id": "15a276db-4a26-4a27-8c8d-406ae22bf144",
   "metadata": {},
   "outputs": [
    {
     "data": {
      "text/plain": [
       "0.05357798836736424"
      ]
     },
     "execution_count": 31,
     "metadata": {},
     "output_type": "execute_result"
    }
   ],
   "source": [
    "not_popular_scores.var()"
   ]
  },
  {
   "cell_type": "markdown",
   "id": "cf339d78-1d4b-492b-bce7-ca15d74f5ed1",
   "metadata": {},
   "source": [
    "The sample variance seems to be relatively comparable, so we decide to assume that there is homogeneity of variance between both groups.\n",
    "\n",
    "The distribution of the ranking means for each movie seem to form a unimodal distribution for both cases. While the histograms are not very different, one could assume that there would exist some movies in the low-popularity group that could be deemed \"cult-classics\" (low popularity, high ranking). This would introduce statistical artifacts that would not be present in other cases. However, we will deem their effect to be neglibible."
   ]
  },
  {
   "cell_type": "markdown",
   "id": "f813fca0-c276-4fd9-8b73-72ed50c8533c",
   "metadata": {},
   "source": [
    "Overall, because of the present data and assumption that there are similar variances present within both groups, we will use the **Independent samples t-test**. "
   ]
  },
  {
   "cell_type": "code",
   "execution_count": 32,
   "id": "78a5e791-9dcf-4449-9b86-84038bb94273",
   "metadata": {},
   "outputs": [],
   "source": [
    "import scipy.stats as stats"
   ]
  },
  {
   "cell_type": "code",
   "execution_count": 33,
   "id": "61764146-ffb0-4ad7-9e2f-bf208601f8d2",
   "metadata": {},
   "outputs": [
    {
     "data": {
      "text/plain": [
       "TtestResult(statistic=17.7560492698737, pvalue=2.2696530276564846e-52, df=398.0)"
      ]
     },
     "execution_count": 33,
     "metadata": {},
     "output_type": "execute_result"
    }
   ],
   "source": [
    "stats.ttest_ind(popular_scores, not_popular_scores) "
   ]
  },
  {
   "cell_type": "markdown",
   "id": "2fa11b4a-4dfb-42a7-9e74-384613ea083c",
   "metadata": {},
   "source": [
    "The test had 398 degrees of freedom and, yields a resulting p-value of 2.2696530276564846e-52. This gives us a very high degree of confidence that movies that are rated as popular, are also rated higher than movies that are not popular (far above the confidence level of $\\alpha=0.005$). Because of this, we will reject the null-hypothesis of the means of both groups being the same."
   ]
  }
 ],
 "metadata": {
  "kernelspec": {
   "display_name": "Python 3 (ipykernel)",
   "language": "python",
   "name": "python3"
  },
  "language_info": {
   "codemirror_mode": {
    "name": "ipython",
    "version": 3
   },
   "file_extension": ".py",
   "mimetype": "text/x-python",
   "name": "python",
   "nbconvert_exporter": "python",
   "pygments_lexer": "ipython3",
   "version": "3.11.4"
  }
 },
 "nbformat": 4,
 "nbformat_minor": 5
}
