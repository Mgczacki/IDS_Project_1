{
 "cells": [
  {
   "cell_type": "code",
   "execution_count": 27,
   "id": "dda806d9-74b4-4f3f-b9f6-9825c72ac5b9",
   "metadata": {},
   "outputs": [],
   "source": [
    "import numpy as np\n",
    "import pandas as pd\n",
    "import matplotlib.pyplot as plt"
   ]
  },
  {
   "cell_type": "code",
   "execution_count": 2,
   "id": "888c8fad-97d2-43a6-8697-0cd22f0b225c",
   "metadata": {},
   "outputs": [],
   "source": [
    "df = pd.read_csv('../movieReplicationSet.csv')"
   ]
  },
  {
   "cell_type": "code",
   "execution_count": 3,
   "id": "ca1a7aee-34f2-404e-a924-841780b77737",
   "metadata": {},
   "outputs": [
    {
     "data": {
      "text/html": [
       "<div>\n",
       "<style scoped>\n",
       "    .dataframe tbody tr th:only-of-type {\n",
       "        vertical-align: middle;\n",
       "    }\n",
       "\n",
       "    .dataframe tbody tr th {\n",
       "        vertical-align: top;\n",
       "    }\n",
       "\n",
       "    .dataframe thead th {\n",
       "        text-align: right;\n",
       "    }\n",
       "</style>\n",
       "<table border=\"1\" class=\"dataframe\">\n",
       "  <thead>\n",
       "    <tr style=\"text-align: right;\">\n",
       "      <th></th>\n",
       "      <th>The Life of David Gale (2003)</th>\n",
       "      <th>Wing Commander (1999)</th>\n",
       "      <th>Django Unchained (2012)</th>\n",
       "      <th>Alien (1979)</th>\n",
       "      <th>Indiana Jones and the Last Crusade (1989)</th>\n",
       "      <th>Snatch (2000)</th>\n",
       "      <th>Rambo: First Blood Part II (1985)</th>\n",
       "      <th>Fargo (1996)</th>\n",
       "      <th>Let the Right One In (2008)</th>\n",
       "      <th>Black Swan (2010)</th>\n",
       "      <th>...</th>\n",
       "      <th>When watching a movie I cheer or shout or talk or curse at the screen</th>\n",
       "      <th>When watching a movie I feel like the things on the screen are happening to me</th>\n",
       "      <th>As a movie unfolds I start to have problems keeping track of events that happened earlier</th>\n",
       "      <th>The emotions on the screen \"rub off\" on me - for instance if something sad is happening I get sad or if something frightening is happening I get scared</th>\n",
       "      <th>When watching a movie I get completely immersed in the alternative reality of the film</th>\n",
       "      <th>Movies change my position on social economic or political issues</th>\n",
       "      <th>When watching movies things get so intense that I have to stop watching</th>\n",
       "      <th>Gender identity (1 = female; 2 = male; 3 = self-described)</th>\n",
       "      <th>Are you an only child? (1: Yes; 0: No; -1: Did not respond)</th>\n",
       "      <th>Movies are best enjoyed alone (1: Yes; 0: No; -1: Did not respond)</th>\n",
       "    </tr>\n",
       "  </thead>\n",
       "  <tbody>\n",
       "    <tr>\n",
       "      <th>0</th>\n",
       "      <td>NaN</td>\n",
       "      <td>NaN</td>\n",
       "      <td>4.0</td>\n",
       "      <td>NaN</td>\n",
       "      <td>3.0</td>\n",
       "      <td>NaN</td>\n",
       "      <td>NaN</td>\n",
       "      <td>NaN</td>\n",
       "      <td>NaN</td>\n",
       "      <td>NaN</td>\n",
       "      <td>...</td>\n",
       "      <td>1.0</td>\n",
       "      <td>6.0</td>\n",
       "      <td>2.0</td>\n",
       "      <td>5.0</td>\n",
       "      <td>5.0</td>\n",
       "      <td>5.0</td>\n",
       "      <td>1.0</td>\n",
       "      <td>1.0</td>\n",
       "      <td>0</td>\n",
       "      <td>1</td>\n",
       "    </tr>\n",
       "    <tr>\n",
       "      <th>1</th>\n",
       "      <td>NaN</td>\n",
       "      <td>NaN</td>\n",
       "      <td>1.5</td>\n",
       "      <td>NaN</td>\n",
       "      <td>NaN</td>\n",
       "      <td>NaN</td>\n",
       "      <td>NaN</td>\n",
       "      <td>NaN</td>\n",
       "      <td>NaN</td>\n",
       "      <td>NaN</td>\n",
       "      <td>...</td>\n",
       "      <td>3.0</td>\n",
       "      <td>1.0</td>\n",
       "      <td>1.0</td>\n",
       "      <td>6.0</td>\n",
       "      <td>5.0</td>\n",
       "      <td>3.0</td>\n",
       "      <td>2.0</td>\n",
       "      <td>1.0</td>\n",
       "      <td>0</td>\n",
       "      <td>0</td>\n",
       "    </tr>\n",
       "    <tr>\n",
       "      <th>2</th>\n",
       "      <td>NaN</td>\n",
       "      <td>NaN</td>\n",
       "      <td>NaN</td>\n",
       "      <td>NaN</td>\n",
       "      <td>NaN</td>\n",
       "      <td>NaN</td>\n",
       "      <td>NaN</td>\n",
       "      <td>NaN</td>\n",
       "      <td>NaN</td>\n",
       "      <td>NaN</td>\n",
       "      <td>...</td>\n",
       "      <td>5.0</td>\n",
       "      <td>4.0</td>\n",
       "      <td>3.0</td>\n",
       "      <td>5.0</td>\n",
       "      <td>5.0</td>\n",
       "      <td>4.0</td>\n",
       "      <td>4.0</td>\n",
       "      <td>1.0</td>\n",
       "      <td>1</td>\n",
       "      <td>0</td>\n",
       "    </tr>\n",
       "    <tr>\n",
       "      <th>3</th>\n",
       "      <td>NaN</td>\n",
       "      <td>NaN</td>\n",
       "      <td>2.0</td>\n",
       "      <td>NaN</td>\n",
       "      <td>3.0</td>\n",
       "      <td>NaN</td>\n",
       "      <td>NaN</td>\n",
       "      <td>NaN</td>\n",
       "      <td>NaN</td>\n",
       "      <td>4.0</td>\n",
       "      <td>...</td>\n",
       "      <td>3.0</td>\n",
       "      <td>1.0</td>\n",
       "      <td>1.0</td>\n",
       "      <td>4.0</td>\n",
       "      <td>5.0</td>\n",
       "      <td>3.0</td>\n",
       "      <td>1.0</td>\n",
       "      <td>1.0</td>\n",
       "      <td>0</td>\n",
       "      <td>1</td>\n",
       "    </tr>\n",
       "    <tr>\n",
       "      <th>4</th>\n",
       "      <td>NaN</td>\n",
       "      <td>NaN</td>\n",
       "      <td>3.5</td>\n",
       "      <td>NaN</td>\n",
       "      <td>0.5</td>\n",
       "      <td>NaN</td>\n",
       "      <td>0.5</td>\n",
       "      <td>1.0</td>\n",
       "      <td>NaN</td>\n",
       "      <td>0.0</td>\n",
       "      <td>...</td>\n",
       "      <td>2.0</td>\n",
       "      <td>3.0</td>\n",
       "      <td>2.0</td>\n",
       "      <td>5.0</td>\n",
       "      <td>6.0</td>\n",
       "      <td>4.0</td>\n",
       "      <td>4.0</td>\n",
       "      <td>1.0</td>\n",
       "      <td>1</td>\n",
       "      <td>1</td>\n",
       "    </tr>\n",
       "    <tr>\n",
       "      <th>...</th>\n",
       "      <td>...</td>\n",
       "      <td>...</td>\n",
       "      <td>...</td>\n",
       "      <td>...</td>\n",
       "      <td>...</td>\n",
       "      <td>...</td>\n",
       "      <td>...</td>\n",
       "      <td>...</td>\n",
       "      <td>...</td>\n",
       "      <td>...</td>\n",
       "      <td>...</td>\n",
       "      <td>...</td>\n",
       "      <td>...</td>\n",
       "      <td>...</td>\n",
       "      <td>...</td>\n",
       "      <td>...</td>\n",
       "      <td>...</td>\n",
       "      <td>...</td>\n",
       "      <td>...</td>\n",
       "      <td>...</td>\n",
       "      <td>...</td>\n",
       "    </tr>\n",
       "    <tr>\n",
       "      <th>1092</th>\n",
       "      <td>NaN</td>\n",
       "      <td>NaN</td>\n",
       "      <td>NaN</td>\n",
       "      <td>NaN</td>\n",
       "      <td>3.5</td>\n",
       "      <td>NaN</td>\n",
       "      <td>NaN</td>\n",
       "      <td>NaN</td>\n",
       "      <td>NaN</td>\n",
       "      <td>NaN</td>\n",
       "      <td>...</td>\n",
       "      <td>3.0</td>\n",
       "      <td>4.0</td>\n",
       "      <td>3.0</td>\n",
       "      <td>5.0</td>\n",
       "      <td>5.0</td>\n",
       "      <td>4.0</td>\n",
       "      <td>4.0</td>\n",
       "      <td>1.0</td>\n",
       "      <td>0</td>\n",
       "      <td>0</td>\n",
       "    </tr>\n",
       "    <tr>\n",
       "      <th>1093</th>\n",
       "      <td>3.0</td>\n",
       "      <td>4.0</td>\n",
       "      <td>NaN</td>\n",
       "      <td>NaN</td>\n",
       "      <td>4.0</td>\n",
       "      <td>4.0</td>\n",
       "      <td>2.5</td>\n",
       "      <td>NaN</td>\n",
       "      <td>3.5</td>\n",
       "      <td>3.5</td>\n",
       "      <td>...</td>\n",
       "      <td>5.0</td>\n",
       "      <td>3.0</td>\n",
       "      <td>5.0</td>\n",
       "      <td>5.0</td>\n",
       "      <td>5.0</td>\n",
       "      <td>6.0</td>\n",
       "      <td>5.0</td>\n",
       "      <td>1.0</td>\n",
       "      <td>0</td>\n",
       "      <td>0</td>\n",
       "    </tr>\n",
       "    <tr>\n",
       "      <th>1094</th>\n",
       "      <td>NaN</td>\n",
       "      <td>NaN</td>\n",
       "      <td>NaN</td>\n",
       "      <td>NaN</td>\n",
       "      <td>NaN</td>\n",
       "      <td>NaN</td>\n",
       "      <td>NaN</td>\n",
       "      <td>3.5</td>\n",
       "      <td>NaN</td>\n",
       "      <td>NaN</td>\n",
       "      <td>...</td>\n",
       "      <td>6.0</td>\n",
       "      <td>3.0</td>\n",
       "      <td>1.0</td>\n",
       "      <td>6.0</td>\n",
       "      <td>6.0</td>\n",
       "      <td>4.0</td>\n",
       "      <td>2.0</td>\n",
       "      <td>1.0</td>\n",
       "      <td>0</td>\n",
       "      <td>0</td>\n",
       "    </tr>\n",
       "    <tr>\n",
       "      <th>1095</th>\n",
       "      <td>NaN</td>\n",
       "      <td>NaN</td>\n",
       "      <td>NaN</td>\n",
       "      <td>NaN</td>\n",
       "      <td>NaN</td>\n",
       "      <td>NaN</td>\n",
       "      <td>NaN</td>\n",
       "      <td>NaN</td>\n",
       "      <td>NaN</td>\n",
       "      <td>NaN</td>\n",
       "      <td>...</td>\n",
       "      <td>1.0</td>\n",
       "      <td>1.0</td>\n",
       "      <td>1.0</td>\n",
       "      <td>4.0</td>\n",
       "      <td>3.0</td>\n",
       "      <td>3.0</td>\n",
       "      <td>1.0</td>\n",
       "      <td>1.0</td>\n",
       "      <td>0</td>\n",
       "      <td>1</td>\n",
       "    </tr>\n",
       "    <tr>\n",
       "      <th>1096</th>\n",
       "      <td>NaN</td>\n",
       "      <td>NaN</td>\n",
       "      <td>4.0</td>\n",
       "      <td>NaN</td>\n",
       "      <td>2.5</td>\n",
       "      <td>NaN</td>\n",
       "      <td>NaN</td>\n",
       "      <td>3.0</td>\n",
       "      <td>NaN</td>\n",
       "      <td>3.5</td>\n",
       "      <td>...</td>\n",
       "      <td>3.0</td>\n",
       "      <td>4.0</td>\n",
       "      <td>1.0</td>\n",
       "      <td>4.0</td>\n",
       "      <td>4.0</td>\n",
       "      <td>4.0</td>\n",
       "      <td>1.0</td>\n",
       "      <td>1.0</td>\n",
       "      <td>0</td>\n",
       "      <td>1</td>\n",
       "    </tr>\n",
       "  </tbody>\n",
       "</table>\n",
       "<p>1097 rows × 477 columns</p>\n",
       "</div>"
      ],
      "text/plain": [
       "      The Life of David Gale (2003)  Wing Commander (1999)  \\\n",
       "0                               NaN                    NaN   \n",
       "1                               NaN                    NaN   \n",
       "2                               NaN                    NaN   \n",
       "3                               NaN                    NaN   \n",
       "4                               NaN                    NaN   \n",
       "...                             ...                    ...   \n",
       "1092                            NaN                    NaN   \n",
       "1093                            3.0                    4.0   \n",
       "1094                            NaN                    NaN   \n",
       "1095                            NaN                    NaN   \n",
       "1096                            NaN                    NaN   \n",
       "\n",
       "      Django Unchained (2012)  Alien (1979)  \\\n",
       "0                         4.0           NaN   \n",
       "1                         1.5           NaN   \n",
       "2                         NaN           NaN   \n",
       "3                         2.0           NaN   \n",
       "4                         3.5           NaN   \n",
       "...                       ...           ...   \n",
       "1092                      NaN           NaN   \n",
       "1093                      NaN           NaN   \n",
       "1094                      NaN           NaN   \n",
       "1095                      NaN           NaN   \n",
       "1096                      4.0           NaN   \n",
       "\n",
       "      Indiana Jones and the Last Crusade (1989)  Snatch (2000)  \\\n",
       "0                                           3.0            NaN   \n",
       "1                                           NaN            NaN   \n",
       "2                                           NaN            NaN   \n",
       "3                                           3.0            NaN   \n",
       "4                                           0.5            NaN   \n",
       "...                                         ...            ...   \n",
       "1092                                        3.5            NaN   \n",
       "1093                                        4.0            4.0   \n",
       "1094                                        NaN            NaN   \n",
       "1095                                        NaN            NaN   \n",
       "1096                                        2.5            NaN   \n",
       "\n",
       "      Rambo: First Blood Part II (1985)  Fargo (1996)  \\\n",
       "0                                   NaN           NaN   \n",
       "1                                   NaN           NaN   \n",
       "2                                   NaN           NaN   \n",
       "3                                   NaN           NaN   \n",
       "4                                   0.5           1.0   \n",
       "...                                 ...           ...   \n",
       "1092                                NaN           NaN   \n",
       "1093                                2.5           NaN   \n",
       "1094                                NaN           3.5   \n",
       "1095                                NaN           NaN   \n",
       "1096                                NaN           3.0   \n",
       "\n",
       "      Let the Right One In (2008)  Black Swan (2010)  ...  \\\n",
       "0                             NaN                NaN  ...   \n",
       "1                             NaN                NaN  ...   \n",
       "2                             NaN                NaN  ...   \n",
       "3                             NaN                4.0  ...   \n",
       "4                             NaN                0.0  ...   \n",
       "...                           ...                ...  ...   \n",
       "1092                          NaN                NaN  ...   \n",
       "1093                          3.5                3.5  ...   \n",
       "1094                          NaN                NaN  ...   \n",
       "1095                          NaN                NaN  ...   \n",
       "1096                          NaN                3.5  ...   \n",
       "\n",
       "      When watching a movie I cheer or shout or talk or curse at the screen  \\\n",
       "0                                                   1.0                       \n",
       "1                                                   3.0                       \n",
       "2                                                   5.0                       \n",
       "3                                                   3.0                       \n",
       "4                                                   2.0                       \n",
       "...                                                 ...                       \n",
       "1092                                                3.0                       \n",
       "1093                                                5.0                       \n",
       "1094                                                6.0                       \n",
       "1095                                                1.0                       \n",
       "1096                                                3.0                       \n",
       "\n",
       "      When watching a movie I feel like the things on the screen are happening to me  \\\n",
       "0                                                   6.0                                \n",
       "1                                                   1.0                                \n",
       "2                                                   4.0                                \n",
       "3                                                   1.0                                \n",
       "4                                                   3.0                                \n",
       "...                                                 ...                                \n",
       "1092                                                4.0                                \n",
       "1093                                                3.0                                \n",
       "1094                                                3.0                                \n",
       "1095                                                1.0                                \n",
       "1096                                                4.0                                \n",
       "\n",
       "      As a movie unfolds I start to have problems keeping track of events that happened earlier  \\\n",
       "0                                                   2.0                                           \n",
       "1                                                   1.0                                           \n",
       "2                                                   3.0                                           \n",
       "3                                                   1.0                                           \n",
       "4                                                   2.0                                           \n",
       "...                                                 ...                                           \n",
       "1092                                                3.0                                           \n",
       "1093                                                5.0                                           \n",
       "1094                                                1.0                                           \n",
       "1095                                                1.0                                           \n",
       "1096                                                1.0                                           \n",
       "\n",
       "      The emotions on the screen \"rub off\" on me - for instance if something sad is happening I get sad or if something frightening is happening I get scared  \\\n",
       "0                                                   5.0                                                                                                         \n",
       "1                                                   6.0                                                                                                         \n",
       "2                                                   5.0                                                                                                         \n",
       "3                                                   4.0                                                                                                         \n",
       "4                                                   5.0                                                                                                         \n",
       "...                                                 ...                                                                                                         \n",
       "1092                                                5.0                                                                                                         \n",
       "1093                                                5.0                                                                                                         \n",
       "1094                                                6.0                                                                                                         \n",
       "1095                                                4.0                                                                                                         \n",
       "1096                                                4.0                                                                                                         \n",
       "\n",
       "      When watching a movie I get completely immersed in the alternative reality of the film  \\\n",
       "0                                                   5.0                                        \n",
       "1                                                   5.0                                        \n",
       "2                                                   5.0                                        \n",
       "3                                                   5.0                                        \n",
       "4                                                   6.0                                        \n",
       "...                                                 ...                                        \n",
       "1092                                                5.0                                        \n",
       "1093                                                5.0                                        \n",
       "1094                                                6.0                                        \n",
       "1095                                                3.0                                        \n",
       "1096                                                4.0                                        \n",
       "\n",
       "      Movies change my position on social economic or political issues  \\\n",
       "0                                                   5.0                  \n",
       "1                                                   3.0                  \n",
       "2                                                   4.0                  \n",
       "3                                                   3.0                  \n",
       "4                                                   4.0                  \n",
       "...                                                 ...                  \n",
       "1092                                                4.0                  \n",
       "1093                                                6.0                  \n",
       "1094                                                4.0                  \n",
       "1095                                                3.0                  \n",
       "1096                                                4.0                  \n",
       "\n",
       "      When watching movies things get so intense that I have to stop watching  \\\n",
       "0                                                   1.0                         \n",
       "1                                                   2.0                         \n",
       "2                                                   4.0                         \n",
       "3                                                   1.0                         \n",
       "4                                                   4.0                         \n",
       "...                                                 ...                         \n",
       "1092                                                4.0                         \n",
       "1093                                                5.0                         \n",
       "1094                                                2.0                         \n",
       "1095                                                1.0                         \n",
       "1096                                                1.0                         \n",
       "\n",
       "      Gender identity (1 = female; 2 = male; 3 = self-described)  \\\n",
       "0                                                   1.0            \n",
       "1                                                   1.0            \n",
       "2                                                   1.0            \n",
       "3                                                   1.0            \n",
       "4                                                   1.0            \n",
       "...                                                 ...            \n",
       "1092                                                1.0            \n",
       "1093                                                1.0            \n",
       "1094                                                1.0            \n",
       "1095                                                1.0            \n",
       "1096                                                1.0            \n",
       "\n",
       "      Are you an only child? (1: Yes; 0: No; -1: Did not respond)  \\\n",
       "0                                                     0             \n",
       "1                                                     0             \n",
       "2                                                     1             \n",
       "3                                                     0             \n",
       "4                                                     1             \n",
       "...                                                 ...             \n",
       "1092                                                  0             \n",
       "1093                                                  0             \n",
       "1094                                                  0             \n",
       "1095                                                  0             \n",
       "1096                                                  0             \n",
       "\n",
       "      Movies are best enjoyed alone (1: Yes; 0: No; -1: Did not respond)  \n",
       "0                                                     1                   \n",
       "1                                                     0                   \n",
       "2                                                     0                   \n",
       "3                                                     1                   \n",
       "4                                                     1                   \n",
       "...                                                 ...                   \n",
       "1092                                                  0                   \n",
       "1093                                                  0                   \n",
       "1094                                                  0                   \n",
       "1095                                                  1                   \n",
       "1096                                                  1                   \n",
       "\n",
       "[1097 rows x 477 columns]"
      ]
     },
     "execution_count": 3,
     "metadata": {},
     "output_type": "execute_result"
    }
   ],
   "source": [
    "df"
   ]
  },
  {
   "cell_type": "code",
   "execution_count": 4,
   "id": "06bafb64-c34c-48bd-b35e-d61ca9747ad3",
   "metadata": {},
   "outputs": [],
   "source": [
    "movie_cols = df.columns[0:400]"
   ]
  },
  {
   "cell_type": "code",
   "execution_count": 5,
   "id": "ea300f36-fb74-4bc8-87d2-440fe4d77b54",
   "metadata": {},
   "outputs": [
    {
     "data": {
      "text/plain": [
       "Index(['The Life of David Gale (2003)', 'Wing Commander (1999)',\n",
       "       'Django Unchained (2012)', 'Alien (1979)',\n",
       "       'Indiana Jones and the Last Crusade (1989)', 'Snatch (2000)',\n",
       "       'Rambo: First Blood Part II (1985)', 'Fargo (1996)',\n",
       "       'Let the Right One In (2008)', 'Black Swan (2010)',\n",
       "       ...\n",
       "       'X-Men 2 (2003)', 'The Usual Suspects (1995)', 'The Mask (1994)',\n",
       "       'Jaws (1975)', 'Harry Potter and the Chamber of Secrets (2002)',\n",
       "       'Patton (1970)', 'Anaconda (1997)', 'Twister (1996)',\n",
       "       'MacArthur (1977)', 'Look Who's Talking (1989)'],\n",
       "      dtype='object', length=400)"
      ]
     },
     "execution_count": 5,
     "metadata": {},
     "output_type": "execute_result"
    }
   ],
   "source": [
    "movie_cols"
   ]
  },
  {
   "cell_type": "code",
   "execution_count": 6,
   "id": "abd623dd-4b2f-4c59-bcaa-586426498aa8",
   "metadata": {},
   "outputs": [],
   "source": [
    "sensation_cols = df.columns[400:420]"
   ]
  },
  {
   "cell_type": "code",
   "execution_count": 7,
   "id": "66d8390f-f159-467b-8fe3-39d70fc221ce",
   "metadata": {},
   "outputs": [
    {
     "data": {
      "text/plain": [
       "Index(['I enjoy driving fast', 'I enjoy rollercoasters ',\n",
       "       'Have you ever bungee-jumped?', 'I enjoy impulse shopping',\n",
       "       'I sometimes go out on weeknights even if I have work to do',\n",
       "       'I enjoy doing things without too much planning ',\n",
       "       'Have you ever been rock climbing?',\n",
       "       'I enjoy being in large loud crowds like the Times Square Ball Drop on New Years Eve',\n",
       "       'I enjoy going to large music or dance festivals ',\n",
       "       'I enjoy watching horror movies', 'No risk - No fun',\n",
       "       'I like to be surprised even if it startles or scares me',\n",
       "       'Have you ever parachuted?', 'I enjoy haunted houses',\n",
       "       'I had a sheltered upbringing', 'My life is very stressful',\n",
       "       'I value my life to be well ordered and predictable',\n",
       "       'Have you ridden a motorcycle?', 'Have you gambled or bet for money?',\n",
       "       'Have you ever been sky-diving?'],\n",
       "      dtype='object')"
      ]
     },
     "execution_count": 7,
     "metadata": {},
     "output_type": "execute_result"
    }
   ],
   "source": [
    "sensation_cols"
   ]
  },
  {
   "cell_type": "code",
   "execution_count": 8,
   "id": "c0d354f0-2a74-4626-a9fd-310a15dd6f17",
   "metadata": {},
   "outputs": [],
   "source": [
    "personality_cols = df.columns[420:464]"
   ]
  },
  {
   "cell_type": "code",
   "execution_count": 9,
   "id": "bf093971-ec72-447d-b8b1-f9d0066f2b0f",
   "metadata": {},
   "outputs": [
    {
     "data": {
      "text/plain": [
       "Index(['Is talkative', 'Tends to find fault with others',\n",
       "       'Does a thorough job', 'Is depressed/Blue',\n",
       "       'Is original/comes up with new ideas', 'Is reserved',\n",
       "       'Is helpful and unselfish with others', 'Can be somewhat careless',\n",
       "       'Is relaxed/handles stress well',\n",
       "       'Is curious about many different things', 'Is full of energy',\n",
       "       'Starts quarrels with others', 'Is a reliable worker', 'Can be tense',\n",
       "       'Is ingenious/a deep thinker', 'Generates a lot of Enthusiasm',\n",
       "       'Has a forgiving nature', 'Tends to be disorganized', 'Worries a lot',\n",
       "       'Has an active imagination', 'Tends to be quiet',\n",
       "       'Is generally trusting', 'Tends to be lazy',\n",
       "       'Is emotionally stable/not easily upset', 'is inventive',\n",
       "       'Has an assertive personality', 'Can be cold and aloof',\n",
       "       'Perseveres until the task is finished', 'Can be moody',\n",
       "       'Values artistic/aesthetic experiences', 'Is sometimes shy/inhibited',\n",
       "       'Is considerate and kind to almost everyone', 'Does things efficiently',\n",
       "       'Remains calm in tense situations', 'Prefers work that is routine',\n",
       "       'is outgoing/sociable', 'Is sometimes rude to others',\n",
       "       'Makes plans and follows through with them', 'Gets nervous easily',\n",
       "       'Likes to reflect/play with ideas', 'Has few artistic interests',\n",
       "       'Likes to cooperate with others', 'Is easily distracted',\n",
       "       'Is sophisticated in art or music or literature'],\n",
       "      dtype='object')"
      ]
     },
     "execution_count": 9,
     "metadata": {},
     "output_type": "execute_result"
    }
   ],
   "source": [
    "personality_cols"
   ]
  },
  {
   "cell_type": "code",
   "execution_count": 10,
   "id": "0c45d0b0-553d-49df-a154-ed4ce3fbb29c",
   "metadata": {},
   "outputs": [],
   "source": [
    "movie_rating_cols = df.columns[464:474]"
   ]
  },
  {
   "cell_type": "code",
   "execution_count": 11,
   "id": "815d2dad-3651-49af-804c-e9bd7bcefeae",
   "metadata": {},
   "outputs": [
    {
     "data": {
      "text/plain": [
       "Index(['I have cried during a movie',\n",
       "       'I have trouble following the story of a movie',\n",
       "       'I have trouble remembering the story of a movie a couple of days after seeing it',\n",
       "       'When watching a movie I cheer or shout or talk or curse at the screen',\n",
       "       'When watching a movie I feel like the things on the screen are happening to me',\n",
       "       'As a movie unfolds I start to have problems keeping track of events that happened earlier',\n",
       "       'The emotions on the screen \"rub off\" on me - for instance if something sad is happening I get sad or if something frightening is happening I get scared',\n",
       "       'When watching a movie I get completely immersed in the alternative reality of the film',\n",
       "       'Movies change my position on social economic or political issues',\n",
       "       'When watching movies things get so intense that I have to stop watching'],\n",
       "      dtype='object')"
      ]
     },
     "execution_count": 11,
     "metadata": {},
     "output_type": "execute_result"
    }
   ],
   "source": [
    "movie_rating_cols"
   ]
  },
  {
   "cell_type": "code",
   "execution_count": 12,
   "id": "face1bad-8905-4968-96e7-652216461915",
   "metadata": {},
   "outputs": [],
   "source": [
    "gender_identity_cols = df.columns[474:475]"
   ]
  },
  {
   "cell_type": "code",
   "execution_count": 13,
   "id": "b72d4e28-c38f-445a-bd1e-0b75391b6194",
   "metadata": {},
   "outputs": [
    {
     "data": {
      "text/plain": [
       "Index(['Gender identity (1 = female; 2 = male; 3 = self-described)'], dtype='object')"
      ]
     },
     "execution_count": 13,
     "metadata": {},
     "output_type": "execute_result"
    }
   ],
   "source": [
    "gender_identity_cols"
   ]
  },
  {
   "cell_type": "code",
   "execution_count": 14,
   "id": "0e164f8d-de48-4f51-8ea3-dbbbe2c31b69",
   "metadata": {},
   "outputs": [],
   "source": [
    "only_child_cols = df.columns[475:476]"
   ]
  },
  {
   "cell_type": "code",
   "execution_count": 15,
   "id": "ce16c511-591a-4871-9b51-92a321c89e4a",
   "metadata": {},
   "outputs": [
    {
     "data": {
      "text/plain": [
       "Index(['Are you an only child? (1: Yes; 0: No; -1: Did not respond)'], dtype='object')"
      ]
     },
     "execution_count": 15,
     "metadata": {},
     "output_type": "execute_result"
    }
   ],
   "source": [
    "only_child_cols"
   ]
  },
  {
   "cell_type": "code",
   "execution_count": 16,
   "id": "e0d3412b-50fb-406e-8533-adbda560cd13",
   "metadata": {},
   "outputs": [],
   "source": [
    "alone_cols = df.columns[476:477]"
   ]
  },
  {
   "cell_type": "code",
   "execution_count": 17,
   "id": "f3b0baa4-4819-407c-aeb5-6366da200aa9",
   "metadata": {},
   "outputs": [
    {
     "data": {
      "text/plain": [
       "Index(['Movies are best enjoyed alone (1: Yes; 0: No; -1: Did not respond)'], dtype='object')"
      ]
     },
     "execution_count": 17,
     "metadata": {},
     "output_type": "execute_result"
    }
   ],
   "source": [
    "alone_cols"
   ]
  },
  {
   "cell_type": "markdown",
   "id": "ef31833e-7e29-4cb2-a4ff-614afc63b151",
   "metadata": {},
   "source": [
    "# AFYD\n",
    "\n",
    "1. **D**: What did you do - what assumptions/choices did you make, if any (e.g. re\n",
    "independence, type of data, etc.)?\n",
    "2. **Y**: Why did you do this - what was the reasoning for doing this (over all other possible things you could have done)?\n",
    "3. **F**: What did you find doing that - at least one number (e.g. a p-value or an effect size), better a number *and* a figure. Context is better – what does the number represent, how was it arrived at (what was the test statistic and degrees of freedom?)\n",
    "4. **A**: Given all of that, how do you answer the question, sth like \"Given that my p value is x, I conclude that y]. If you made any questionable assumptions above, this is also where you might want to state limitations to the scope of your answer, if there are any, and you are aware of them. It's fine to have limitations, if you spell them out (e.g. concerns about alpha inflation, independence, distribution of data, etc - if there are any).\n"
   ]
  },
  {
   "cell_type": "markdown",
   "id": "3b531574-f648-4108-9fa5-d5294f1afa03",
   "metadata": {},
   "source": [
    "# Question 2:"
   ]
  },
  {
   "cell_type": "markdown",
   "id": "82bfeae1-9e0b-4df0-96f0-b8f4eef9ea75",
   "metadata": {},
   "source": [
    "Are movies that are newer rated differently than movies that are older? [Hint: Do a median split of year of release to contrast movies in terms of whether they are old or new]"
   ]
  },
  {
   "cell_type": "markdown",
   "id": "075497ad-ef08-43c5-a68f-20d3b71fcbd7",
   "metadata": {},
   "source": [
    "Step 1: Finding newer movies:\n",
    "- Movies that are above the median release year are deemed new, others are deemed old."
   ]
  },
  {
   "cell_type": "code",
   "execution_count": 24,
   "id": "f650e46e-442d-4bda-a9d6-1d07b1d4c863",
   "metadata": {},
   "outputs": [],
   "source": [
    "def parse_year(s):\n",
    "    return int(s.split(\"(\")[-1].strip()[0:4])"
   ]
  },
  {
   "cell_type": "code",
   "execution_count": 43,
   "id": "f23d7fab-589b-4e5b-9e08-78d72d4981b0",
   "metadata": {},
   "outputs": [],
   "source": [
    "movie_release_years = [parse_year(col) for col in movie_cols]"
   ]
  },
  {
   "cell_type": "code",
   "execution_count": 44,
   "id": "94960db7-8bff-4d58-ab41-b1e9415e21e4",
   "metadata": {},
   "outputs": [],
   "source": [
    "median_release_year = np.median(movie_release_years)"
   ]
  },
  {
   "cell_type": "code",
   "execution_count": 45,
   "id": "045f6011-4359-46c6-9c4b-5478e33232f2",
   "metadata": {},
   "outputs": [],
   "source": [
    "new_mask = movie_release_years > median_release_year"
   ]
  },
  {
   "cell_type": "code",
   "execution_count": 46,
   "id": "329a6d15-0f4c-4c04-8891-fbaf69a44892",
   "metadata": {},
   "outputs": [],
   "source": [
    "new_movies = movie_cols[new_mask]"
   ]
  },
  {
   "cell_type": "code",
   "execution_count": 47,
   "id": "4ce62251-308c-4006-87fb-cefaa7e43c32",
   "metadata": {},
   "outputs": [
    {
     "data": {
      "text/plain": [
       "Index(['The Life of David Gale (2003)', 'Django Unchained (2012)',\n",
       "       'Snatch (2000)', 'Let the Right One In (2008)', 'Black Swan (2010)',\n",
       "       'The Machinist (2004)', 'The Fast and the Furious (2001)',\n",
       "       'Terminator 3: Rise of the Machines (2003)', 'Man on Fire (2004)',\n",
       "       'The Others (2001)',\n",
       "       ...\n",
       "       'The Lookout (2007)', '21 Grams (2003)', 'Gladiator (2000)',\n",
       "       'House of Sand and Fog (2003)', 'The Descent (2005)',\n",
       "       'Harry Potter and the Goblet of Fire (2005)',\n",
       "       'Gods and Generals (2003)', 'My Father and My Son (2005)',\n",
       "       'X-Men 2 (2003)', 'Harry Potter and the Chamber of Secrets (2002)'],\n",
       "      dtype='object', length=174)"
      ]
     },
     "execution_count": 47,
     "metadata": {},
     "output_type": "execute_result"
    }
   ],
   "source": [
    "new_movies"
   ]
  },
  {
   "cell_type": "code",
   "execution_count": 51,
   "id": "3c5055f2-e969-410d-a14a-903c16c5d2ef",
   "metadata": {},
   "outputs": [],
   "source": [
    "old_movies = [m for m in movie_cols if m not in new_movies]"
   ]
  },
  {
   "cell_type": "code",
   "execution_count": 52,
   "id": "0cbe33d6-8c4a-4594-b236-fee4e891a8c1",
   "metadata": {},
   "outputs": [
    {
     "data": {
      "text/plain": [
       "['Wing Commander (1999)',\n",
       " 'Alien (1979)',\n",
       " 'Indiana Jones and the Last Crusade (1989)',\n",
       " 'Rambo: First Blood Part II (1985)',\n",
       " 'Fargo (1996)',\n",
       " 'King Kong (1976)',\n",
       " 'A Nightmare on Elm Street (1984)',\n",
       " 'Brazil (1985)',\n",
       " 'Change of Habit (1969)',\n",
       " 'American Beauty (1999)',\n",
       " 'Psycho (1960)',\n",
       " 'Night of the Living Dead (1968)',\n",
       " 'Star Wars: Episode IV - A New Hope (1977)',\n",
       " 'The Silence of the Lambs (1991)',\n",
       " 'Sling Blade (1996)',\n",
       " \"Schindler's List (1993)\",\n",
       " 'Magnolia (1999)',\n",
       " 'The Karate Kid Part II (1986)',\n",
       " 'The Godfather: Part II (1974)',\n",
       " 'Indiana Jones and the Temple of Doom (1984)',\n",
       " 'Indiana Jones and the Raiders of the Lost Ark (1981)',\n",
       " 'The Iron Giant (1999)',\n",
       " 'North (1994)',\n",
       " 'The Lost World: Jurassic Park (1997)',\n",
       " 'The Texas Chainsaw Massacre (1974)',\n",
       " 'Taxi Driver (1976)',\n",
       " 'Back to the Future (1985)',\n",
       " 'The Bridges of Madison County (1995)',\n",
       " 'Billy Madison (1995)',\n",
       " 'Chain Reaction (1996)',\n",
       " 'Batman & Robin (1997)',\n",
       " 'Platoon (1986)',\n",
       " 'Terms of Endearment (1983)',\n",
       " 'Star Trek: The Motion Picture (1979)',\n",
       " 'Clueless (1995)',\n",
       " 'The Omen (1976)',\n",
       " 'Good Will Hunting (1997)',\n",
       " 'Showgirls (1995)',\n",
       " 'Diamonds are Forever (1971)',\n",
       " 'Poltergeist (1982)',\n",
       " 'Fear and Loathing in Las Vegas (1998)',\n",
       " 'Barbarella (1968)',\n",
       " 'The King of Marvin Gardens (1972)',\n",
       " 'The Poseidon Adventure (1972)',\n",
       " 'The Rock (1996)',\n",
       " 'Love Story (1970)',\n",
       " 'The Jungle Book (1967)',\n",
       " 'The Exorcist (1973)',\n",
       " 'Funny Girl (1968)',\n",
       " 'Blues Brothers 2000 (1998)',\n",
       " 'Godzilla (1998)',\n",
       " 'Fight Club (1999)',\n",
       " 'Top Gun (1986)',\n",
       " '12 Monkeys (1995)',\n",
       " 'Dead Poets Society (1989)',\n",
       " 'Once Upon a Time in America (1984)',\n",
       " 'The Thing (1982)',\n",
       " 'Full Metal Jacket (1987)',\n",
       " 'Cool Hand Luke (1967)',\n",
       " 'Sholay (1978)',\n",
       " 'Die Hard With a Vengeance (1995)',\n",
       " 'The Blue Lagoon (1980)',\n",
       " 'Hellraiser (1987)',\n",
       " 'Moonraker (1979)',\n",
       " 'Leon (1994)',\n",
       " 'Beetle Juice (1988)',\n",
       " 'Andaz Apna Apna (1994)',\n",
       " 'The Shining (1980)',\n",
       " 'The Land That Time Forgot (1974)',\n",
       " 'Escape from LA (1996)',\n",
       " 'JFK (1991)',\n",
       " 'Barb Wire (1996)',\n",
       " 'Carrie (1976)',\n",
       " 'The Good the Bad and the Ugly (1966)',\n",
       " 'Speed 2: Cruise Control (1997)',\n",
       " 'The Talented Mr. Ripley (1999)',\n",
       " 'Casino (1995)',\n",
       " 'A Time to Kill (1996)',\n",
       " 'Blazing Saddles (1974)',\n",
       " 'The Doom Generation (1995)',\n",
       " 'Armageddon (1998)',\n",
       " 'Arachnophobia (1990)',\n",
       " 'Stir Crazy (1980)',\n",
       " 'Billy Jack (1971)',\n",
       " 'The Silencers (1966)',\n",
       " 'The Three Musketeers (1993)',\n",
       " 'Girl Interrupted (1999)',\n",
       " 'Tropic of Cancer (1970)',\n",
       " 'The Sixth Sense (1999)',\n",
       " 'I Know What You Did Last Summer (1997)',\n",
       " 'Ace Ventura: When Nature Calls (1995)',\n",
       " 'Dances with Wolves (1990)',\n",
       " 'Mrs. Doubtfire (1993)',\n",
       " 'Blade Runner (1982)',\n",
       " 'Unforgiven (1992)',\n",
       " \"Rosemary's Baby (1968)\",\n",
       " \"Can't Hardly Wait (1998)\",\n",
       " 'Toy Story 2 (1999)',\n",
       " 'Terminator 2: Judgement Day (1991)',\n",
       " \"Who's Afraid of Virginia Woolf (1966)\",\n",
       " 'Life is Beautiful (1997)',\n",
       " 'Scream (1996)',\n",
       " 'The Evil Dead (1981)',\n",
       " 'Stand By Me (1986)',\n",
       " 'Once Upon a Time in the West (1968)',\n",
       " 'Star Wars: Episode V - The Empire Strikes Back (1980)',\n",
       " 'War Games (1983)',\n",
       " 'Saving Private Ryan (1998)',\n",
       " 'Being John Malkovich (1999)',\n",
       " \"Father's Day (1997)\",\n",
       " 'Batman (1989)',\n",
       " 'Se7en (1995)',\n",
       " 'Happy Gilmore (1996)',\n",
       " 'Boomerang (1992)',\n",
       " 'Tarzan (1999)',\n",
       " 'Scent of a Woman (1992)',\n",
       " 'Broken Arrow (1996)',\n",
       " 'Baby Geniuses (1999)',\n",
       " 'The Firm (1993)',\n",
       " 'Die Hard (1988)',\n",
       " 'The Blair Witch Project (1999)',\n",
       " 'Judge Dredd (1995)',\n",
       " '10 Things I Hate About You (1999)',\n",
       " 'The Insider (1999)',\n",
       " 'Erik the Viking (1989)',\n",
       " 'The Truman Show (1998)',\n",
       " 'Forrest Gump (1994)',\n",
       " 'I.Q. (1994)',\n",
       " 'Goodfellas (1990)',\n",
       " 'Beauty and the Beauty (1991)',\n",
       " 'The Shawshank Redemption (1994)',\n",
       " 'Sleepy Hollow (1999)',\n",
       " 'Sixteen Candles (1984)',\n",
       " 'Austin Powers: The Spy Who Shagged Me (1999)',\n",
       " 'The Lion King (1994)',\n",
       " \"Child's Play (1988)\",\n",
       " 'Angels in the Outfield (1994)',\n",
       " 'Wild Wild West (1999)',\n",
       " 'Bad Boys (1995)',\n",
       " 'American Graffiti (1973)',\n",
       " 'Air Force One (1997)',\n",
       " 'Close Encounters of the Third Kind (1977)',\n",
       " 'Point Break (1991)',\n",
       " 'Ghost (1990)',\n",
       " \"A Bug's Life (1998)\",\n",
       " 'American Pie (1999)',\n",
       " 'The Bandit (1996)',\n",
       " 'Grease (1978)',\n",
       " 'The Godfather (1972)',\n",
       " 'Best Laid Plans (1999)',\n",
       " \"Bram Stoker's Dracula (1992)\",\n",
       " 'Cable Guy (1996)',\n",
       " 'Misery (1990)',\n",
       " 'The Deer Hunter (1978)',\n",
       " \"There's Something About Mary (1998)\",\n",
       " 'Rocky (1976)',\n",
       " 'Thoroughly Modern Millie (1967)',\n",
       " 'L.A. Confidential (1997)',\n",
       " 'Star Wars: Episode 1 - The Phantom Menace (1999)',\n",
       " 'Rain Man (1988)',\n",
       " 'Toy Story (1995)',\n",
       " \"Boy's Don't Cry (1999)\",\n",
       " 'The Sting (1973)',\n",
       " 'Congo (1995)',\n",
       " 'Home Alone (1990)',\n",
       " 'The Straight Story (1999)',\n",
       " 'Rocky V (1991)',\n",
       " 'Titanic (1997)',\n",
       " 'A Clockwork Orange (1971)',\n",
       " 'Friday the 13th Part III (1982)',\n",
       " 'Pulp Fiction (1994)',\n",
       " 'Crimson Tide (1995)',\n",
       " 'Ran (1985)',\n",
       " 'Apocalypse Now (1979)',\n",
       " 'Cinema Paradiso (1988)',\n",
       " 'Double Jeopardy (1999)',\n",
       " 'The Big Lebowski (1998)',\n",
       " 'The Matrix (1999)',\n",
       " 'Reservoir Dogs (1992)',\n",
       " 'Heavy Traffic (1973)',\n",
       " 'The Fugitive (1993)',\n",
       " 'The Nightmare Before Christmas (1993)',\n",
       " 'Flowers in the Attic (1987)',\n",
       " 'The Princess Bride (1987)',\n",
       " 'The Green Mile (1999)',\n",
       " 'Predator (1987)',\n",
       " 'A Night at the Roxbury (1998)',\n",
       " 'Ed Wood (1994)',\n",
       " 'Aliens (1986)',\n",
       " 'Independence Day (1996)',\n",
       " 'Who Framed Roger Rabbit (1988)',\n",
       " 'As Good as it Gets (1997)',\n",
       " 'Butch Cassidy and the Sundance Kid (1969)',\n",
       " 'The Final Conflict (1981)',\n",
       " 'Star Wars: Episode VI - The Return of the Jedi (1983)',\n",
       " 'E.T. The Extra-Terrestrial (1982)',\n",
       " 'American History X (1998)',\n",
       " 'Halloween (1978)',\n",
       " 'Aladdin (1992)',\n",
       " 'Men in Black (1997)',\n",
       " 'Cocktail (1988)',\n",
       " 'The Game (1997)',\n",
       " 'Red Sonja (1985)',\n",
       " \"One Flew Over the Cuckoo's Nest (1975)\",\n",
       " \"Miller's Crossing (1990)\",\n",
       " \"My Best Friend's Wedding (1997)\",\n",
       " 'Big Daddy (1999)',\n",
       " 'Suspiria (1977)',\n",
       " 'The Passenger (1975)',\n",
       " 'Jurassic Park (1993)',\n",
       " 'A Perfect Murder (1998)',\n",
       " 'Braveheart (1995)',\n",
       " 'Groundhog Day (1993)',\n",
       " 'Midnight Cowboy (1969)',\n",
       " 'Fatal Attraction (1987)',\n",
       " 'On Golden Pond (1981)',\n",
       " 'The Mummy (1999)',\n",
       " 'Runaway Bride (1999)',\n",
       " 'The Usual Suspects (1995)',\n",
       " 'The Mask (1994)',\n",
       " 'Jaws (1975)',\n",
       " 'Patton (1970)',\n",
       " 'Anaconda (1997)',\n",
       " 'Twister (1996)',\n",
       " 'MacArthur (1977)',\n",
       " \"Look Who's Talking (1989)\"]"
      ]
     },
     "execution_count": 52,
     "metadata": {},
     "output_type": "execute_result"
    }
   ],
   "source": [
    "old_movies"
   ]
  },
  {
   "cell_type": "markdown",
   "id": "41afbcb0-49b0-44e9-a6e9-95a2687f7387",
   "metadata": {},
   "source": [
    "Step 2: Decide the test design.\n",
    "\n",
    "- For this use-case, we will assume that sample means can correctly describe the ratings for movies. Therefore each movie will be assigned the sample mean of all its ratings.\n",
    "- Population parameters are unknown.\n",
    "- The groups are correlated. People don't only evaluate one movie, and the same people can evaluate movies in both the new and old categories. Therefore it is a within-subjects-design. However, since we will be averaging all ratings for each movie, we will assume that the scores for each movie are mostly independent.\n",
    "\n",
    "We will try to compare the distribution of variability between the movies of each group, by plotting the histograms and getting the sample variance:"
   ]
  },
  {
   "cell_type": "code",
   "execution_count": 53,
   "id": "25753987-1466-4d12-82e4-bdabcb7ccfb8",
   "metadata": {},
   "outputs": [],
   "source": [
    "df_new = df_movies[new_movies]\n",
    "new_scores = df_new.mean(axis=0)"
   ]
  },
  {
   "cell_type": "code",
   "execution_count": 54,
   "id": "7ad86788-7b1f-4710-a1d2-721bd4a20477",
   "metadata": {},
   "outputs": [
    {
     "data": {
      "text/plain": [
       "(array([ 5., 12., 28., 21., 26., 20., 21., 18., 14.,  9.]),\n",
       " array([1.91558442, 2.06544664, 2.21530886, 2.36517108, 2.51503331,\n",
       "        2.66489553, 2.81475775, 2.96461997, 3.1144822 , 3.26434442,\n",
       "        3.41420664]),\n",
       " <BarContainer object of 10 artists>)"
      ]
     },
     "execution_count": 54,
     "metadata": {},
     "output_type": "execute_result"
    },
    {
     "data": {
      "image/png": "[encoded data removed]",
      "text/plain": [
       "<Figure size 640x480 with 1 Axes>"
      ]
     },
     "metadata": {},
     "output_type": "display_data"
    }
   ],
   "source": [
    "plt.hist(new_scores)"
   ]
  },
  {
   "cell_type": "code",
   "execution_count": 55,
   "id": "9c4b9e09-22ac-46cf-8576-52f4de278796",
   "metadata": {},
   "outputs": [
    {
     "data": {
      "text/plain": [
       "0.12720888076795805"
      ]
     },
     "execution_count": 55,
     "metadata": {},
     "output_type": "execute_result"
    }
   ],
   "source": [
    "new_scores.var()"
   ]
  },
  {
   "cell_type": "code",
   "execution_count": 56,
   "id": "083d027e-dcd1-4f35-b4ab-de607e9af8da",
   "metadata": {},
   "outputs": [],
   "source": [
    "df_old = df_movies[old_movies]\n",
    "old_scores = df_old.mean(axis=0)"
   ]
  },
  {
   "cell_type": "code",
   "execution_count": 57,
   "id": "bb4e3b89-bdf7-4840-b77b-22b81bd809bf",
   "metadata": {},
   "outputs": [
    {
     "data": {
      "text/plain": [
       "(array([11., 21., 31., 45., 33., 25., 18., 25., 13.,  4.]),\n",
       " array([1.92948718, 2.08253633, 2.23558547, 2.38863462, 2.54168377,\n",
       "        2.69473292, 2.84778206, 3.00083121, 3.15388036, 3.30692951,\n",
       "        3.45997866]),\n",
       " <BarContainer object of 10 artists>)"
      ]
     },
     "execution_count": 57,
     "metadata": {},
     "output_type": "execute_result"
    },
    {
     "data": {
      "image/png": "[encoded data removed]",
      "text/plain": [
       "<Figure size 640x480 with 1 Axes>"
      ]
     },
     "metadata": {},
     "output_type": "display_data"
    }
   ],
   "source": [
    "plt.hist(old_scores)"
   ]
  },
  {
   "cell_type": "code",
   "execution_count": 58,
   "id": "22d0e442-3417-4e54-82d5-ea4973efdd2c",
   "metadata": {},
   "outputs": [
    {
     "data": {
      "text/plain": [
       "0.12115411938346701"
      ]
     },
     "execution_count": 58,
     "metadata": {},
     "output_type": "execute_result"
    }
   ],
   "source": [
    "old_scores.var()"
   ]
  },
  {
   "cell_type": "markdown",
   "id": "ad84e26c-6f18-4d95-9a9d-8ac0044b1b2d",
   "metadata": {},
   "source": [
    "The variances for each group seem to be very similar. While the histogram for score distributions of old movies seems to be slightly more dense toward the 2.4 bin, there is no indication of dissimilarity between the variability of both groups."
   ]
  },
  {
   "cell_type": "markdown",
   "id": "27714e21-318d-4ac7-974b-5465b472d96e",
   "metadata": {},
   "source": [
    "Overall, because of the present data and assumption that there are similar variances present within both groups, we will use the **Independent samples t-test**. "
   ]
  },
  {
   "cell_type": "code",
   "execution_count": 60,
   "id": "0087fb3c-8d8d-43a8-aa30-f7567296cc90",
   "metadata": {},
   "outputs": [],
   "source": [
    "import scipy.stats as stats"
   ]
  },
  {
   "cell_type": "code",
   "execution_count": 62,
   "id": "5747b307-3970-4159-8770-ee03acbd4a3c",
   "metadata": {},
   "outputs": [
    {
     "data": {
      "text/plain": [
       "TtestResult(statistic=1.1237543185824748, pvalue=0.2617946111804346, df=398.0)"
      ]
     },
     "execution_count": 62,
     "metadata": {},
     "output_type": "execute_result"
    }
   ],
   "source": [
    "stats.ttest_ind(new_scores, old_scores) "
   ]
  },
  {
   "cell_type": "markdown",
   "id": "0ba0ab2e-c2e5-4a80-aaab-730241998672",
   "metadata": {},
   "source": [
    "The test had 398 degrees of freedom and, yields a resulting p-value of 0.2617946111804346. This gives us a very low degree of confidence that new movies are rated differently, than old ones. Because this is not below our desired confidence value ($\\alpha = 0.005$), we have no evidence to reject the null-hypothesis of the means of both groups being the same."
   ]
  }
 ],
 "metadata": {
  "kernelspec": {
   "display_name": "Python 3 (ipykernel)",
   "language": "python",
   "name": "python3"
  },
  "language_info": {
   "codemirror_mode": {
    "name": "ipython",
    "version": 3
   },
   "file_extension": ".py",
   "mimetype": "text/x-python",
   "name": "python",
   "nbconvert_exporter": "python",
   "pygments_lexer": "ipython3",
   "version": "3.11.4"
  }
 },
 "nbformat": 4,
 "nbformat_minor": 5
}
